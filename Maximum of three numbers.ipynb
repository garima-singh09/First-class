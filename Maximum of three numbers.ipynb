{
 "cells": [
  {
   "cell_type": "code",
   "execution_count": 1,
   "metadata": {},
   "outputs": [
    {
     "name": "stdout",
     "output_type": "stream",
     "text": [
      "Enter first number: 21\n",
      "Enter second number: 32\n",
      "Enter third number: 1\n",
      "Maximum number is : 32\n"
     ]
    }
   ],
   "source": [
    "# Maximum of three numbers(method1)\n",
    "\n",
    "x=int(input(\"Enter first number: \"));\n",
    "y=int(input(\"Enter second number: \"));\n",
    "z=int(input(\"Enter third number: \"));\n",
    "\n",
    "print(\"Maximum number is : \",end=\"\");\n",
    "if y<=x>=z:\n",
    "    print(x)\n",
    "elif x<=y>=z:\n",
    "  print(y)\n",
    "else:\n",
    " print(z)"
   ]
  },
  {
   "cell_type": "code",
   "execution_count": 2,
   "metadata": {},
   "outputs": [
    {
     "name": "stdout",
     "output_type": "stream",
     "text": [
      "Enter first number: 12\n",
      "Enter second number: 23\n",
      "Enter third number: 4\n",
      "MAximum number is: 23\n"
     ]
    }
   ],
   "source": [
    "# Maximum of Three numbers using 'max()' function\n",
    "\n",
    "x=int(input(\"Enter first number: \"));\n",
    "y=int(input(\"Enter second number: \"));\n",
    "z=int(input(\"Enter third number: \"));\n",
    "print(\"MAximum number is:\" ,max(x,y,z))"
   ]
  },
  {
   "cell_type": "code",
   "execution_count": null,
   "metadata": {},
   "outputs": [],
   "source": []
  }
 ],
 "metadata": {
  "kernelspec": {
   "display_name": "Python 3",
   "language": "python",
   "name": "python3"
  },
  "language_info": {
   "codemirror_mode": {
    "name": "ipython",
    "version": 3
   },
   "file_extension": ".py",
   "mimetype": "text/x-python",
   "name": "python",
   "nbconvert_exporter": "python",
   "pygments_lexer": "ipython3",
   "version": "3.8.5"
  }
 },
 "nbformat": 4,
 "nbformat_minor": 4
}
