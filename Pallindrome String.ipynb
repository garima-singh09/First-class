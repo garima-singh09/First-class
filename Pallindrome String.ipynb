{
 "cells": [
  {
   "cell_type": "code",
   "execution_count": null,
   "metadata": {},
   "outputs": [],
   "source": [
    "# Program to check whether a string is pallindrome or not\n",
    "\n",
    "str=input(\"Enter any word to check whether it is pallindrome or not: \")\n",
    "word=str[::]\n",
    "print(\"Original word=\", word)\n",
    "reverse=str[: :-1]\n",
    "print(\"Reverse =\", reverse)\n",
    "if reverse == word:\n",
    "    print(f\"'{str}' is Pallindrome\")\n",
    "else:\n",
    "    print(f\"'{str}' is not  Pallindrome\")"
   ]
  }
 ],
 "metadata": {
  "kernelspec": {
   "display_name": "Python 3",
   "language": "python",
   "name": "python3"
  },
  "language_info": {
   "codemirror_mode": {
    "name": "ipython",
    "version": 3
   },
   "file_extension": ".py",
   "mimetype": "text/x-python",
   "name": "python",
   "nbconvert_exporter": "python",
   "pygments_lexer": "ipython3",
   "version": "3.8.5"
  }
 },
 "nbformat": 4,
 "nbformat_minor": 4
}
