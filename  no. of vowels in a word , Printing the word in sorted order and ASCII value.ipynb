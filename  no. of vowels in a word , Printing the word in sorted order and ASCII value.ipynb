{
 "cells": [
  {
   "cell_type": "code",
   "execution_count": 1,
   "metadata": {},
   "outputs": [
    {
     "name": "stdout",
     "output_type": "stream",
     "text": [
      "Enter any word:working busy\n",
      "There are 3 Vowels in working busy \n"
     ]
    }
   ],
   "source": [
    "# Program to count number of vowels in a word\n",
    "\n",
    "word=input(\"Enter any word:\")\n",
    "vowel_count=0\n",
    "for i in word:\n",
    "    if i in ['a','e','i','o','u']:\n",
    "        vowel_count+=1\n",
    "\n",
    "print(\"There are %s Vowels in %s \" %(vowel_count,word))"
   ]
  },
  {
   "cell_type": "code",
   "execution_count": 2,
   "metadata": {},
   "outputs": [
    {
     "name": "stdout",
     "output_type": "stream",
     "text": [
      "Enter any word: boxing\n",
      "Oiginal word:  boxing\n",
      "Word in alphabetical order:  ['b', 'g', 'i', 'n', 'o', 'x']\n"
     ]
    }
   ],
   "source": [
    "# Program to print the word in sorted order\n",
    "\n",
    "word=input(\"Enter any word: \")\n",
    "print(\"Oiginal word: \", word)\n",
    "print(\"Word in alphabetical order: \", sorted(word))"
   ]
  },
  {
   "cell_type": "code",
   "execution_count": 1,
   "metadata": {},
   "outputs": [
    {
     "name": "stdout",
     "output_type": "stream",
     "text": [
      "enter a letter:k\n",
      "ASCII value of k :  107\n"
     ]
    }
   ],
   "source": [
    "# ASCII value of a letter\n",
    "character=input(\"enter a letter:\")\n",
    "print(f\"ASCII value of {character} : \" ,ord(character))"
   ]
  },
  {
   "cell_type": "code",
   "execution_count": null,
   "metadata": {},
   "outputs": [],
   "source": []
  }
 ],
 "metadata": {
  "kernelspec": {
   "display_name": "Python 3",
   "language": "python",
   "name": "python3"
  },
  "language_info": {
   "codemirror_mode": {
    "name": "ipython",
    "version": 3
   },
   "file_extension": ".py",
   "mimetype": "text/x-python",
   "name": "python",
   "nbconvert_exporter": "python",
   "pygments_lexer": "ipython3",
   "version": "3.8.5"
  }
 },
 "nbformat": 4,
 "nbformat_minor": 4
}
