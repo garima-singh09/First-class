{
 "cells": [
  {
   "cell_type": "code",
   "execution_count": null,
   "metadata": {},
   "outputs": [],
   "source": [
    "# Qno1-WAP to convert kilometers to miles\n",
    "\n",
    "km=float(input(\"Enter kilometer :\"))\n",
    "miles=km/1.6\n",
    "print(f\"{km}kms is {miles}miles\")"
   ]
  },
  {
   "cell_type": "code",
   "execution_count": null,
   "metadata": {},
   "outputs": [],
   "source": [
    "# Qno2-WAP to convert celsius to fahrenheit\n",
    "\n",
    "celsius=float(input(\"enter temperature in celsius: \"))\n",
    "fahrenheit=(celsius*1.8)+32\n",
    "print(f\"{celsius}degrees is {fahrenheit}F\")"
   ]
  },
  {
   "cell_type": "code",
   "execution_count": null,
   "metadata": {},
   "outputs": [],
   "source": [
    "# Qno3-WAP to check weather a number is positive,negative or zero\n",
    "num=int(input(\"Enter a number: \"))\n",
    "print(f\"{num} is positive\") if num>0 else print(f\"{num} is negative\") if num<0 else print(f\"number is {num} \")"
   ]
  },
  {
   "cell_type": "code",
   "execution_count": null,
   "metadata": {},
   "outputs": [],
   "source": [
    "def power_of_two():\n",
    "\n",
    "    print(\"Power of two till 2^10\")\n",
    "    for i in range(0,10):\n",
    "        print(2**i)\n",
    "\n",
    "power_of_two()\n"
   ]
  },
  {
   "cell_type": "code",
   "execution_count": 2,
   "metadata": {},
   "outputs": [
    {
     "name": "stdout",
     "output_type": "stream",
     "text": [
      "Name is stuart ...he lives near grocery shop , 4th lane, UP\n"
     ]
    }
   ],
   "source": [
    "#Qno- Create a dictionary of address using \"name\", \"address\", \"street\", \"state\" and print all the values using string formater\n",
    "\n",
    "my_dict={\"name\":\"stuart\",\"address\":\"near grocery shop\",\"street\":\"4th lane\",\"state\":\"UP\"}\n",
    "print(f\"Name is {my_dict['name']} ...he lives {my_dict['address']} , {my_dict['street']}, {my_dict['state']}\")"
   ]
  },
  {
   "cell_type": "code",
   "execution_count": null,
   "metadata": {},
   "outputs": [],
   "source": []
  }
 ],
 "metadata": {
  "kernelspec": {
   "display_name": "Python 3",
   "language": "python",
   "name": "python3"
  },
  "language_info": {
   "codemirror_mode": {
    "name": "ipython",
    "version": 3
   },
   "file_extension": ".py",
   "mimetype": "text/x-python",
   "name": "python",
   "nbconvert_exporter": "python",
   "pygments_lexer": "ipython3",
   "version": "3.8.5"
  }
 },
 "nbformat": 4,
 "nbformat_minor": 4
}
