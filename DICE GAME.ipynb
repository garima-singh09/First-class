{
 "cells": [
  {
   "cell_type": "code",
   "execution_count": null,
   "metadata": {},
   "outputs": [],
   "source": [
    "import random\n",
    "print(\"   WELCOME TO THE GAME OF DICE\")\n",
    "\n",
    "print(\"\\nPlease press 'r' to roll the dice\")\n",
    "\n",
    "x=input()\n",
    "while x=='r':\n",
    "    num=random.randint(1,6)\n",
    "    if num==1:\n",
    "        print(\"--------------\")\n",
    "        print(\"|            |\")\n",
    "        print(\"|     O      |\") \n",
    "        print(\"|            |\")\n",
    "        print(\"--------------\")\n",
    "   \n",
    "    if num==2:\n",
    "        print(\"--------------\")\n",
    "        print(\"|            |\")\n",
    "        print(\"|    O O     |\") \n",
    "        print(\"|            |\")\n",
    "        print(\"--------------\")\n",
    "    if num==3:\n",
    "        print(\"--------------\")\n",
    "        print(\"|            |\")\n",
    "        print(\"|   O O O    |\") \n",
    "        print(\"|            |\")\n",
    "        print(\"--------------\")\n",
    "    if num==4:\n",
    "        print(\"--------------\")\n",
    "        print(\"|            |\")\n",
    "        print(\"|    O O     |\") \n",
    "        print(\"|    O O     |\")\n",
    "        print(\"|            |\")\n",
    "        print(\"--------------\")\n",
    "    \n",
    "    if num==5:\n",
    "        print(\"--------------\")\n",
    "        print(\"|            |\")\n",
    "        print(\"|     O O    |\") \n",
    "        print(\"|      O     |\")\n",
    "        print(\"|     O O    |\")\n",
    "        print(\"|            |\")\n",
    "        print(\"--------------\")\n",
    "    if num==6:\n",
    "        print(\"--------------\")\n",
    "        print(\"|            |\")\n",
    "        print(\"|     O O    |\") \n",
    "        print(\"|     O O    |\")\n",
    "        print(\"|     O O    |\")\n",
    "        print(\"|            |\")\n",
    "        print(\"--------------\")\n",
    "    x=input()\n",
    "\n",
    "print(\"            GAME OVER                 \")\n",
    "print(\"     Thank you for playing this game  \") \n",
    "print(\"          Hope you enjoyed            \")\n",
    "       "
   ]
  },
  {
   "cell_type": "code",
   "execution_count": null,
   "metadata": {},
   "outputs": [],
   "source": []
  },
  {
   "cell_type": "code",
   "execution_count": null,
   "metadata": {},
   "outputs": [],
   "source": []
  }
 ],
 "metadata": {
  "kernelspec": {
   "display_name": "Python 3",
   "language": "python",
   "name": "python3"
  },
  "language_info": {
   "codemirror_mode": {
    "name": "ipython",
    "version": 3
   },
   "file_extension": ".py",
   "mimetype": "text/x-python",
   "name": "python",
   "nbconvert_exporter": "python",
   "pygments_lexer": "ipython3",
   "version": "3.8.5"
  }
 },
 "nbformat": 4,
 "nbformat_minor": 4
}
