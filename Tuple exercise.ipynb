{
 "cells": [
  {
   "cell_type": "code",
   "execution_count": 3,
   "metadata": {},
   "outputs": [
    {
     "name": "stdout",
     "output_type": "stream",
     "text": [
      "(4, 8, 3, 6)\n",
      "21\n"
     ]
    }
   ],
   "source": [
    "#Q1.Write a Python program to unpack a tuple in several variables.\n",
    "\n",
    "#create a tuple\n",
    "tup = 4, 8, 3 ,6\n",
    "print(tup)\n",
    "n1, n2, n3, n4 = tup\n",
    "#unpack a tuple in variables\n",
    "print(n1 + n2 + n3 + n4) \n"
   ]
  },
  {
   "cell_type": "code",
   "execution_count": 6,
   "metadata": {},
   "outputs": [
    {
     "name": "stdout",
     "output_type": "stream",
     "text": [
      "Python\n"
     ]
    },
    {
     "data": {
      "text/plain": [
       "str"
      ]
     },
     "execution_count": 6,
     "metadata": {},
     "output_type": "execute_result"
    }
   ],
   "source": [
    "#Q2.Tuple to a string\n",
    "\n",
    "tup = ('P','y','t','h','o','n')\n",
    "str =  ''.join(tup)\n",
    "print(str)\n",
    "type(str)"
   ]
  },
  {
   "cell_type": "code",
   "execution_count": 7,
   "metadata": {},
   "outputs": [
    {
     "name": "stdout",
     "output_type": "stream",
     "text": [
      "('I', 'N', 'T', 'E', 'P', 'R', 'E', 'T', 'E', 'R')\n",
      "4th Element from first:E\n",
      "4th Element from last:E\n"
     ]
    }
   ],
   "source": [
    "#Q3.Write a Python program to get the 4th element and 4th element from last of a tuple\n",
    "\n",
    "tup = (\"I\",\"N\",\"T\",\"E\",\"P\",\"R\",\"E\",\"T\",\"E\",\"R\")\n",
    "print(tup)\n",
    "\n",
    "#4th element which is in 3rd index\n",
    "element1 = tup[3]\n",
    "print(\"4th Element from first:\"+ element1)\n",
    "\n",
    "#4th element from last \n",
    "element2 = tup[-4]\n",
    "print(\"4th Element from last:\"+ element2)\n"
   ]
  },
  {
   "cell_type": "code",
   "execution_count": 9,
   "metadata": {},
   "outputs": [
    {
     "name": "stdout",
     "output_type": "stream",
     "text": [
      "This is a tuple (234, 235, 300)\n"
     ]
    }
   ],
   "source": [
    "#Q4.Write a Python program to print a tuple with string formatting.\n",
    "\n",
    "tup = (234, 235, 300)\n",
    "print(f'This is a tuple {tup}')"
   ]
  },
  {
   "cell_type": "code",
   "execution_count": 10,
   "metadata": {},
   "outputs": [
    {
     "name": "stdout",
     "output_type": "stream",
     "text": [
      "[('',), ('a', 'b'), ('a', 'b', 'c'), 'd']\n"
     ]
    }
   ],
   "source": [
    "#Q5.Write a Python program to remove an empty tuple(s) from a list of tuples.\n",
    "\n",
    "lst= [(), (), ('',), ('a', 'b'), ('a', 'b', 'c'), ('d')]\n",
    "lst = [tup for tup in lst if tup]\n",
    "print(lst)"
   ]
  },
  {
   "cell_type": "code",
   "execution_count": 12,
   "metadata": {},
   "outputs": [
    {
     "name": "stdout",
     "output_type": "stream",
     "text": [
      "Original Tuple: \n",
      "((10, 10, 10, 12), (30, 45, 56, 45), (81, 80, 39, 32), (1, 2, 3, 4))\n",
      "\n",
      "Average value of the numbers of the said tuple of tuples:\n",
      " [30.5, 34.25, 27.0, 23.25]\n",
      "\n",
      "Original Tuple: \n",
      "((1, 1, -5), (30, -15, 56), (81, -60, -39), (-10, 2, 3))\n",
      "\n",
      "Average value of the numbers of the said tuple of tuples:\n",
      " [25.5, -18.0, 3.75]\n"
     ]
    }
   ],
   "source": [
    "#Q6.Write a Python program to calculate the average value of the numbers in a given tuple of tuples\n",
    "\n",
    "def average_values(nums):\n",
    "    result = [sum(x) / len(x) for x in zip(*nums)]\n",
    "    return result\n",
    "\n",
    "nums = ((10, 10, 10, 12), (30, 45, 56, 45), (81, 80, 39, 32), (1, 2, 3, 4))\n",
    "print (\"Original Tuple: \")\n",
    "print(nums)\n",
    "print(\"\\nAverage value of the numbers of the said tuple of tuples:\\n\",average_values(nums))\n",
    "\n",
    "nums = ((1, 1, -5), (30, -15, 56), (81, -60, -39), (-10, 2, 3))\n",
    "print (\"\\nOriginal Tuple: \")\n",
    "print(nums)\n",
    "print(\"\\nAverage value of the numbers of the said tuple of tuples:\\n\",average_values(nums))"
   ]
  },
  {
   "cell_type": "code",
   "execution_count": 13,
   "metadata": {},
   "outputs": [
    {
     "name": "stdout",
     "output_type": "stream",
     "text": [
      "Original lists:\n",
      "(10, 20, 30, 40)\n",
      "(50, 60, 60.4)\n",
      "(2.5, 4.3, 43.5, 6.5)\n",
      "\n",
      "Element-wise sum of the said tuples:\n",
      "(62.5, 84.3, 133.9)\n"
     ]
    }
   ],
   "source": [
    "#Q7.Write a Python program to compute element-wise sum of given tuples.\n",
    "\n",
    "tup1 = (10,20,30,40)\n",
    "tup2 = (50,60,60.4)\n",
    "tup3 = (2.5,4.3,43.5,6.5)\n",
    "print(\"Original lists:\")\n",
    "print(tup1)\n",
    "print(tup2)\n",
    "print(tup3)\n",
    "print(\"\\nElement-wise sum of the said tuples:\")\n",
    "result = tuple(map(sum, zip(tup1,tup2,tup3)))\n",
    "print(result)"
   ]
  },
  {
   "cell_type": "code",
   "execution_count": null,
   "metadata": {},
   "outputs": [],
   "source": []
  }
 ],
 "metadata": {
  "kernelspec": {
   "display_name": "Python 3",
   "language": "python",
   "name": "python3"
  },
  "language_info": {
   "codemirror_mode": {
    "name": "ipython",
    "version": 3
   },
   "file_extension": ".py",
   "mimetype": "text/x-python",
   "name": "python",
   "nbconvert_exporter": "python",
   "pygments_lexer": "ipython3",
   "version": "3.8.5"
  }
 },
 "nbformat": 4,
 "nbformat_minor": 4
}
