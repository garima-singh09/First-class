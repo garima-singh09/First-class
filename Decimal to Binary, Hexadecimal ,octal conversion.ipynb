{
 "cells": [
  {
   "cell_type": "code",
   "execution_count": null,
   "metadata": {},
   "outputs": [],
   "source": [
    "# Decimal to binary(method 1)\n",
    "def decimal_to_binary(num):\n",
    "\n",
    "    if(num>1):\n",
    "        decimal_to_binary(num//2)\n",
    "\n",
    "    \n",
    "    print(num%2 , end=\"\")\n",
    "\n",
    "num= int(input(\"Enter a decimal number: \"))\n",
    "print(f\"Binary of {num} is:-\")\n",
    "decimal_to_binary(num)"
   ]
  },
  {
   "cell_type": "code",
   "execution_count": null,
   "metadata": {},
   "outputs": [],
   "source": [
    "# decimal to binary(method 2)\n",
    "def decimal_to_binary(num):\n",
    "\n",
    "    print(bin(num).split('b')[-1])\n",
    "\n",
    "num= int(input(\"Enter a decimal number: \"))\n",
    "print(f\"binary of {num} is:-\")\n",
    "decimal_to_binary(num)"
   ]
  },
  {
   "cell_type": "code",
   "execution_count": null,
   "metadata": {},
   "outputs": [],
   "source": [
    "def decimal_to_hexadecimal(num):\n",
    "\n",
    "   print(hex(num).split('x')[-1])\n",
    "\n",
    "num= int(input(\"Enter a decimal number: \"))\n",
    "print(f\"Hexadecimal of {num} is:-\")\n",
    "decimal_to_hexadecimal(num)\n"
   ]
  },
  {
   "cell_type": "code",
   "execution_count": null,
   "metadata": {},
   "outputs": [],
   "source": [
    "def decimal_to_octal(num):\n",
    "\n",
    "   print(oct(num).split('o')[-1])\n",
    "\n",
    "num= int(input(\"Enter a decimal number: \"))\n",
    "print(f\"Octal of {num} is:-\")\n",
    "decimal_to_octal(num)\n"
   ]
  },
  {
   "cell_type": "code",
   "execution_count": null,
   "metadata": {},
   "outputs": [],
   "source": []
  }
 ],
 "metadata": {
  "kernelspec": {
   "display_name": "Python 3",
   "language": "python",
   "name": "python3"
  },
  "language_info": {
   "codemirror_mode": {
    "name": "ipython",
    "version": 3
   },
   "file_extension": ".py",
   "mimetype": "text/x-python",
   "name": "python",
   "nbconvert_exporter": "python",
   "pygments_lexer": "ipython3",
   "version": "3.8.5"
  }
 },
 "nbformat": 4,
 "nbformat_minor": 4
}
