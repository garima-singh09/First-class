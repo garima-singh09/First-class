{
 "cells": [
  {
   "cell_type": "code",
   "execution_count": 1,
   "metadata": {},
   "outputs": [
    {
     "name": "stdout",
     "output_type": "stream",
     "text": [
      "Enter a number: 5\n",
      "Factorial of 5:  120\n"
     ]
    }
   ],
   "source": [
    "# WAP to print factorial of a number, where number is entered by user\n",
    "\n",
    "num=int(input(\"Enter a number: \"))\n",
    "fac=1\n",
    "for i in range(1,num+1):\n",
    " fac=fac*i\n",
    "print(f\"Factorial of {num}: \" ,fac) "
   ]
  },
  {
   "cell_type": "code",
   "execution_count": 2,
   "metadata": {},
   "outputs": [
    {
     "name": "stdout",
     "output_type": "stream",
     "text": [
      "Enter a number to find it's factorial:5\n",
      "factorial of 5 is  120\n"
     ]
    }
   ],
   "source": [
    "# Qno-Factorial of a number using recursion\n",
    "\n",
    "def factorial(num):\n",
    "    if num==0:\n",
    "        return 1\n",
    "    else:\n",
    "        return (num*factorial(num-1))\n",
    "\n",
    "\n",
    "num=int(input(\"Enter a number to find it's factorial:\"))\n",
    "print(f\"factorial of {num} is \" ,factorial(num))"
   ]
  },
  {
   "cell_type": "code",
   "execution_count": null,
   "metadata": {},
   "outputs": [],
   "source": []
  }
 ],
 "metadata": {
  "kernelspec": {
   "display_name": "Python 3",
   "language": "python",
   "name": "python3"
  },
  "language_info": {
   "codemirror_mode": {
    "name": "ipython",
    "version": 3
   },
   "file_extension": ".py",
   "mimetype": "text/x-python",
   "name": "python",
   "nbconvert_exporter": "python",
   "pygments_lexer": "ipython3",
   "version": "3.8.5"
  }
 },
 "nbformat": 4,
 "nbformat_minor": 4
}
