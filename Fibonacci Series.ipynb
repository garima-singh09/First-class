{
 "cells": [
  {
   "cell_type": "code",
   "execution_count": null,
   "metadata": {},
   "outputs": [],
   "source": [
    "# Qno-fibonacci Series\n",
    "num=int(input(\"Enter a number: \"))\n",
    "a=-1\n",
    "b=1\n",
    "for i in range(num):\n",
    "    c=a+b\n",
    "    print(c,end=\" \")\n",
    "    a=b\n",
    "    b=c"
   ]
  },
  {
   "cell_type": "code",
   "execution_count": null,
   "metadata": {},
   "outputs": [],
   "source": [
    "# Fibonacci Series using recursion\n",
    "\n",
    "def fibonacci(a,b,n):\n",
    "\n",
    "    if n==0:\n",
    "        return 0\n",
    "    else:\n",
    "        c=a+b\n",
    "        print(c,end=\" \")\n",
    "        fibonacci(b,c,n-1)\n",
    "\n",
    "a,b=-1,1\n",
    "n=int(input(\"Fibonacci series upto how many elements ? \"))#User input\n",
    "fibonacci(a,b,n)"
   ]
  },
  {
   "cell_type": "code",
   "execution_count": null,
   "metadata": {},
   "outputs": [],
   "source": []
  }
 ],
 "metadata": {
  "kernelspec": {
   "display_name": "Python 3",
   "language": "python",
   "name": "python3"
  },
  "language_info": {
   "codemirror_mode": {
    "name": "ipython",
    "version": 3
   },
   "file_extension": ".py",
   "mimetype": "text/x-python",
   "name": "python",
   "nbconvert_exporter": "python",
   "pygments_lexer": "ipython3",
   "version": "3.8.5"
  }
 },
 "nbformat": 4,
 "nbformat_minor": 4
}
