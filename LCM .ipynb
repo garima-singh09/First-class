{
 "cells": [
  {
   "cell_type": "code",
   "execution_count": null,
   "metadata": {},
   "outputs": [],
   "source": [
    "def lcm(num1,num2):\n",
    "    if n1>n2:\n",
    "        lcm=n1\n",
    "    else:\n",
    "        lcm=n2\n",
    "    while (True):\n",
    "          if lcm%n1==0 and lcm%n2==0:\n",
    "            print(f\"LCM of {n1} and {n2} is:\",lcm)\n",
    "            break\n",
    "          lcm+=1\n",
    "n1= int(input(\"Enter first number: \"))\n",
    "n2= int(input(\"Enter second number: \"))\n",
    "lcm(n1,n2)\n"
   ]
  }
 ],
 "metadata": {
  "kernelspec": {
   "display_name": "Python 3",
   "language": "python",
   "name": "python3"
  },
  "language_info": {
   "codemirror_mode": {
    "name": "ipython",
    "version": 3
   },
   "file_extension": ".py",
   "mimetype": "text/x-python",
   "name": "python",
   "nbconvert_exporter": "python",
   "pygments_lexer": "ipython3",
   "version": "3.8.5"
  }
 },
 "nbformat": 4,
 "nbformat_minor": 4
}
