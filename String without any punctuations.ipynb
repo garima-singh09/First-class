{
 "cells": [
  {
   "cell_type": "code",
   "execution_count": null,
   "metadata": {},
   "outputs": [],
   "source": [
    "# program to remove punctuations from a string\n",
    "\n",
    "str=input(\"Enter any string: \")\n",
    "new_str=\"\"\n",
    "for i in str:\n",
    "    \n",
    "    # if statement checks whether the string contains only alphabets and blank space by using their ascii value\n",
    "    if 65<=ord(i)<=90 or 97<=ord(i)<=122 or ord(i)==32:\n",
    "        new_str=new_str+i\n",
    "        \n",
    "print(new_str)"
   ]
  },
  {
   "cell_type": "code",
   "execution_count": null,
   "metadata": {},
   "outputs": [],
   "source": []
  }
 ],
 "metadata": {
  "kernelspec": {
   "display_name": "Python 3",
   "language": "python",
   "name": "python3"
  },
  "language_info": {
   "codemirror_mode": {
    "name": "ipython",
    "version": 3
   },
   "file_extension": ".py",
   "mimetype": "text/x-python",
   "name": "python",
   "nbconvert_exporter": "python",
   "pygments_lexer": "ipython3",
   "version": "3.8.5"
  }
 },
 "nbformat": 4,
 "nbformat_minor": 4
}
