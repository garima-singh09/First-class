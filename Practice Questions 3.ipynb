{
 "cells": [
  {
   "cell_type": "code",
   "execution_count": 2,
   "metadata": {},
   "outputs": [
    {
     "name": "stdout",
     "output_type": "stream",
     "text": [
      "first number:1\n",
      "second number: 100\n",
      "Prime Numbers between 1 and 100 \n",
      "2, 3, 5, 7, 11, 13, 17, 19, 23, 29, 31, 37, 41, 43, 47, 53, 59, 61, 67, 71, 73, 79, 83, 89, 97, "
     ]
    }
   ],
   "source": [
    "# Qno.1. Prime numbers within a given range\n",
    "\n",
    "n1=int(input(\"first number:\"))\n",
    "n2=int(input(\"second number: \"))\n",
    "print(f\"Prime Numbers between {n1} and {n2} \")\n",
    "for num in range(n1,n2+1):\n",
    "    if num>1:\n",
    "        for i in range(2,num):\n",
    "            if(num%i)==0:\n",
    "                break\n",
    "        else:\n",
    "                print( num,end=\", \")"
   ]
  },
  {
   "cell_type": "code",
   "execution_count": 3,
   "metadata": {},
   "outputs": [
    {
     "name": "stdout",
     "output_type": "stream",
     "text": [
      "Enter any word: ambulance100\n",
      "String is ambulance100\n",
      "Total digit in ambulance100 is= 3\n"
     ]
    }
   ],
   "source": [
    "# Qno.2-Counting total digits in a string\n",
    "\n",
    "string=input(\"Enter any word: \")\n",
    "count=0\n",
    "for letter in string:\n",
    "    # ord() to check for ascii value\n",
    "    if ord('0')<=ord(letter)<= ord('9'):\n",
    "        count+=1\n",
    "\n",
    "print(f\"String is {string}\")\n",
    "print(f\"Total digit in {string} is= {count}\")"
   ]
  },
  {
   "cell_type": "code",
   "execution_count": 4,
   "metadata": {},
   "outputs": [
    {
     "name": "stdout",
     "output_type": "stream",
     "text": [
      "[144, 169, 196, 225, 256, 289, 324]\n"
     ]
    }
   ],
   "source": [
    "# Qno.3-Given a python list,print the square of every element\n",
    "\n",
    "lst=[12,13,14,15,16,17,18]\n",
    "square=[i**2 for i in lst]\n",
    "print(square)"
   ]
  },
  {
   "cell_type": "code",
   "execution_count": 1,
   "metadata": {},
   "outputs": [
    {
     "name": "stdout",
     "output_type": "stream",
     "text": [
      "Enter any word: hello visitors\n",
      "There are 5 vowels in hello visitors\n",
      "['e', 'o', 'i', 'i', 'o']\n"
     ]
    }
   ],
   "source": [
    "# Qno.4- Count number of vowels in a word \n",
    "\n",
    "word=input(\"Enter any word: \")\n",
    "count=0\n",
    "my_list=[ i for i in word if i in ['a','e','i','o','u'] ]\n",
    "for c in my_list:\n",
    "    count+=1\n",
    "print(f\"There are {count} vowels in {word}\")\n",
    "print(my_list)\n",
    "\n"
   ]
  },
  {
   "cell_type": "code",
   "execution_count": null,
   "metadata": {},
   "outputs": [],
   "source": []
  },
  {
   "cell_type": "code",
   "execution_count": null,
   "metadata": {},
   "outputs": [],
   "source": []
  }
 ],
 "metadata": {
  "kernelspec": {
   "display_name": "Python 3",
   "language": "python",
   "name": "python3"
  },
  "language_info": {
   "codemirror_mode": {
    "name": "ipython",
    "version": 3
   },
   "file_extension": ".py",
   "mimetype": "text/x-python",
   "name": "python",
   "nbconvert_exporter": "python",
   "pygments_lexer": "ipython3",
   "version": "3.8.5"
  }
 },
 "nbformat": 4,
 "nbformat_minor": 4
}
