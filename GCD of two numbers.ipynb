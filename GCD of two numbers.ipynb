{
 "cells": [
  {
   "cell_type": "code",
   "execution_count": 1,
   "metadata": {},
   "outputs": [
    {
     "name": "stdout",
     "output_type": "stream",
     "text": [
      "Enter first number: 12\n",
      "Enter second number: 35\n",
      "GCD of two number is:\n",
      "1\n"
     ]
    }
   ],
   "source": [
    "# Method 1\n",
    "def gcd(num1,num2):\n",
    "    if num2==0:\n",
    "        return num1\n",
    "    else:\n",
    "        return gcd(num2, num1%num2)\n",
    "num1= int(input(\"Enter first number: \"))\n",
    "num2= int(input(\"Enter second number: \"))\n",
    "num=gcd(num1,num2)\n",
    "print(\"GCD of two number is:\")\n",
    "print(num)"
   ]
  },
  {
   "cell_type": "code",
   "execution_count": 2,
   "metadata": {},
   "outputs": [
    {
     "name": "stdout",
     "output_type": "stream",
     "text": [
      "Enter first number: 12\n",
      "Enter second number: 35\n",
      "GCD of 12 and 35 is: 1\n"
     ]
    }
   ],
   "source": [
    "# Method 2\n",
    "def gcd(num1,num2):\n",
    "    gcd=1\n",
    "    if num1>num2:\n",
    "        small=num2\n",
    "    else:\n",
    "        small=num1\n",
    "    for i in range(1,small+1):\n",
    "        if num1%i==0 and num2%i==0:\n",
    "           gcd=i\n",
    "    return gcd\n",
    "\n",
    "\n",
    "num1= int(input(\"Enter first number: \"))\n",
    "num2= int(input(\"Enter second number: \"))\n",
    "num=gcd(num1,num2)\n",
    "print(f\"GCD of {num1} and {num2} is:\", num)"
   ]
  },
  {
   "cell_type": "code",
   "execution_count": null,
   "metadata": {},
   "outputs": [],
   "source": []
  }
 ],
 "metadata": {
  "kernelspec": {
   "display_name": "Python 3",
   "language": "python",
   "name": "python3"
  },
  "language_info": {
   "codemirror_mode": {
    "name": "ipython",
    "version": 3
   },
   "file_extension": ".py",
   "mimetype": "text/x-python",
   "name": "python",
   "nbconvert_exporter": "python",
   "pygments_lexer": "ipython3",
   "version": "3.8.5"
  }
 },
 "nbformat": 4,
 "nbformat_minor": 4
}
