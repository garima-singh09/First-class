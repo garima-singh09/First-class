{
 "cells": [
  {
   "cell_type": "code",
   "execution_count": null,
   "metadata": {},
   "outputs": [],
   "source": [
    "# WAP to print table of n, where n is entered by user\n",
    "\n",
    "n=int(input(\"enter a number to find it's table:\"))\n",
    "for i in range(1,11):\n",
    "  print(n*i)"
   ]
  },
  {
   "cell_type": "code",
   "execution_count": null,
   "metadata": {},
   "outputs": [],
   "source": [
    "# WAP to print sum of n natural numbers , where n is entered by user\n",
    "\n",
    "n=int(input(\"Enter a number: \"))\n",
    "sum=0\n",
    "for i in range (n+1):\n",
    "    sum=sum+i\n",
    "print(f\"sum of {n} natural numbers is: \",sum)    "
   ]
  },
  {
   "cell_type": "code",
   "execution_count": null,
   "metadata": {},
   "outputs": [],
   "source": [
    "# WAP to print factorial of a number, where number is entered by user\n",
    "\n",
    "num=int(input(\"Enter a number: \"))\n",
    "fac=1\n",
    "for i in range(1,num+1):\n",
    " fac=fac*i\n",
    "print(f\"Factorial of {num}: \" ,fac) "
   ]
  },
  {
   "cell_type": "code",
   "execution_count": null,
   "metadata": {},
   "outputs": [],
   "source": [
    "#WAP to input sales of the month and calculate the average sales of that month\n",
    "\n",
    "num=int(input(\"Enter number of sales: \"))\n",
    "mnt=input(\"Enter the month: \")\n",
    "sales=[]\n",
    "sum=0\n",
    "print(\"Enter the sales:\")\n",
    "for i in range(1,num+1):\n",
    "   s=int(input())\n",
    "   sales.append(s)\n",
    "    \n",
    "#TO calculate average sale   \n",
    "for j in sales:\n",
    "   sum=sum+j\n",
    "avg=sum/num\n",
    "print(f\"Average sale for the month of {mnt}: \",avg)"
   ]
  }
 ],
 "metadata": {
  "kernelspec": {
   "display_name": "Python 3",
   "language": "python",
   "name": "python3"
  },
  "language_info": {
   "codemirror_mode": {
    "name": "ipython",
    "version": 3
   },
   "file_extension": ".py",
   "mimetype": "text/x-python",
   "name": "python",
   "nbconvert_exporter": "python",
   "pygments_lexer": "ipython3",
   "version": "3.8.5"
  }
 },
 "nbformat": 4,
 "nbformat_minor": 4
}
