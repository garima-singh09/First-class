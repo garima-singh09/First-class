{
 "cells": [
  {
   "cell_type": "code",
   "execution_count": 5,
   "metadata": {},
   "outputs": [
    {
     "name": "stdout",
     "output_type": "stream",
     "text": [
      "750 550 100 "
     ]
    }
   ],
   "source": [
    "# 1.Generate 3 random integers between 100 and 999 which is divisible by 5\n",
    "\n",
    "import random\n",
    "count=0\n",
    "i=1\n",
    "while count<3:\n",
    "    num=random.randint(100,999)\n",
    "    if num%5==0:\n",
    "        count+=1\n",
    "        print(num, end=\" \")"
   ]
  },
  {
   "cell_type": "code",
   "execution_count": 7,
   "metadata": {},
   "outputs": [
    {
     "name": "stdout",
     "output_type": "stream",
     "text": [
      "Enter how many elements  you want to sort: 5\n",
      "Enter the elements: \n",
      "12\n",
      "1\n",
      "23\n",
      "3\n",
      "43\n",
      "Sorted list is: [1, 3, 12, 23, 43]\n"
     ]
    }
   ],
   "source": [
    "# 2. Bubble Sort\n",
    "\n",
    "def Bubble_sort(lst):\n",
    "    for i in range (0,len(lst)-1):\n",
    "        for j in range( len(lst)-1):\n",
    "\n",
    "            if lst[j]>lst[j+1]:\n",
    "                min=lst[j]\n",
    "                lst[j]=lst[j+1]\n",
    "                lst[j+1]=min\n",
    "    return lst\n",
    "\n",
    "\n",
    "elements_num=int(input(\"Enter how many elements  you want to sort: \"))\n",
    "print(\"Enter the elements: \")\n",
    "lst=[]\n",
    "for i in range(0,elements_num):\n",
    "    num=int(input())\n",
    "    lst.append(num)\n",
    "\n",
    "sorted_list=Bubble_sort(lst)\n",
    "print(\"Sorted list is:\", sorted_list)"
   ]
  },
  {
   "cell_type": "code",
   "execution_count": 8,
   "metadata": {},
   "outputs": [
    {
     "name": "stdout",
     "output_type": "stream",
     "text": [
      "Sorted Array in Ascending Order:\n",
      "[0, 2, 9, 11, 45]\n"
     ]
    }
   ],
   "source": [
    "# 3. Selection Sort\n",
    "\n",
    "def selectionSort(lst, size):\n",
    "\n",
    "    for step in range(size):\n",
    "        min = step\n",
    "\n",
    "        for i in range(step + 1, size):\n",
    "\n",
    "            # to sort in descending order, change > to < in this line\n",
    "            # select the minimum element in each loop\n",
    "            if lst[i] < lst[min]:\n",
    "                min = i\n",
    "\n",
    "        # put min at the correct position\n",
    "        (lst[step], lst[min]) = (lst[min], lst[step])\n",
    "\n",
    "\n",
    "data = [2, 45, 0, 11, 9]\n",
    "size = len(data)\n",
    "selectionSort(data, size)\n",
    "print('Sorted Array in Ascending Order:')\n",
    "print(data)"
   ]
  },
  {
   "cell_type": "code",
   "execution_count": 9,
   "metadata": {},
   "outputs": [
    {
     "name": "stdout",
     "output_type": "stream",
     "text": [
      "66.0\n"
     ]
    }
   ],
   "source": [
    "# 4\n",
    "def avg(dict):\n",
    "    sum=0\n",
    "    count=0\n",
    "    for i in dict.values():\n",
    "        sum = sum + i[\"Mark\"][\"phy\"]\n",
    "        count+=1\n",
    "    print(sum/count)\n",
    "\n",
    "dict={1:{'name':'Ram','Mark':{'phy':56,'chem':78}},2:{'name':'Hari','Mark':{'phy':76,'chem':88}}}\n",
    "avg(dict)"
   ]
  },
  {
   "cell_type": "code",
   "execution_count": null,
   "metadata": {},
   "outputs": [],
   "source": []
  }
 ],
 "metadata": {
  "kernelspec": {
   "display_name": "Python 3",
   "language": "python",
   "name": "python3"
  },
  "language_info": {
   "codemirror_mode": {
    "name": "ipython",
    "version": 3
   },
   "file_extension": ".py",
   "mimetype": "text/x-python",
   "name": "python",
   "nbconvert_exporter": "python",
   "pygments_lexer": "ipython3",
   "version": "3.8.5"
  }
 },
 "nbformat": 4,
 "nbformat_minor": 4
}
