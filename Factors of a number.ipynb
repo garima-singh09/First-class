{
 "cells": [
  {
   "cell_type": "code",
   "execution_count": 1,
   "metadata": {},
   "outputs": [
    {
     "name": "stdout",
     "output_type": "stream",
     "text": [
      "Enter a number to find it's factors 12\n",
      "FACTORS OF 12 is: [1, 2, 3, 4, 6, 12]\n"
     ]
    }
   ],
   "source": [
    "# Calculating factors of a number\n",
    "\n",
    "def factors(n):\n",
    "    fac=[]\n",
    "    if n==1:\n",
    "        return n\n",
    "    else:\n",
    "        for i in range(1,n+1):\n",
    "            if n%i == 0:\n",
    "                fac.append(i)# appending value of i to the empty list\n",
    "                \n",
    "    #fac list contains all factors of a given number   \n",
    "    return fac \n",
    "\n",
    "\n",
    "# User input\n",
    "n=int(input(\"Enter a number to find it's factors \"))\n",
    "fact_list=factors(n)\n",
    "# printing the factors\n",
    "print(f\"FACTORS OF {n} is:\",fact_list)"
   ]
  },
  {
   "cell_type": "code",
   "execution_count": 2,
   "metadata": {},
   "outputs": [
    {
     "name": "stdout",
     "output_type": "stream",
     "text": [
      "Enter a number to find it's factors 12\n",
      "Factors of 12 is:\n",
      "1 2 3 4 6 12 "
     ]
    }
   ],
   "source": [
    "# Calculating factors of a number using 'RECURSION'\n",
    "\n",
    "\n",
    "def factors(n,i):# i is natural numbers from 1, to check which number is divisible by given numbers\n",
    "\n",
    "\n",
    "    if i>n:\n",
    "        return 0\n",
    "    if i<=n:\n",
    "        if n%i == 0:\n",
    "            print(i, end=\" \")\n",
    "    #calling function with increased value of i\n",
    "    factors(n, i+1)\n",
    "\n",
    "\n",
    "# user input\n",
    "n=int(input(\"Enter a number to find it's factors \"))\n",
    "print(f\"Factors of {n} is:\")\n",
    "factors(n,1) # calling factors function\n",
    "\n"
   ]
  },
  {
   "cell_type": "code",
   "execution_count": null,
   "metadata": {},
   "outputs": [],
   "source": []
  }
 ],
 "metadata": {
  "kernelspec": {
   "display_name": "Python 3",
   "language": "python",
   "name": "python3"
  },
  "language_info": {
   "codemirror_mode": {
    "name": "ipython",
    "version": 3
   },
   "file_extension": ".py",
   "mimetype": "text/x-python",
   "name": "python",
   "nbconvert_exporter": "python",
   "pygments_lexer": "ipython3",
   "version": "3.8.5"
  }
 },
 "nbformat": 4,
 "nbformat_minor": 4
}
