{
 "cells": [
  {
   "cell_type": "code",
   "execution_count": 4,
   "metadata": {},
   "outputs": [
    {
     "name": "stdout",
     "output_type": "stream",
     "text": [
      "                WELCOME TO CALCULATOR          \n",
      "\n",
      "1.Addition\n",
      "2.Subtraction\n",
      "3.Multiplication\n",
      "4.Divide\n",
      "Enter any number from 1 to 4 to perform any above operations: 1\n",
      "Enter first number:12\n",
      "Enter second number:23\n",
      "\n",
      "Sum of 12 and 23 = 35\n",
      "Do you want to perform more operation? 'y' or 'no' \n",
      "no\n"
     ]
    }
   ],
   "source": [
    "print(\"                WELCOME TO CALCULATOR          \")\n",
    "\n",
    "more='y' #initializing the loop\n",
    "\n",
    "while (more=='y'):#loop will execute till user input is y\n",
    "    \n",
    "    print(\"\\n1.Addition\\n\"+\"2.Subtraction\\n\"+\"3.Multiplication\\n\"+\"4.Divide\")\n",
    "\n",
    "    operation=input(\"Enter any number from 1 to 4 to perform any above operations: \")\n",
    "\n",
    "    num1=int(input(\"Enter first number:\"))\n",
    "    num2=int(input(\"Enter second number:\"))\n",
    "\n",
    "    sum,sub,multiply,divide = 0,0,1,1\n",
    "   \n",
    "\n",
    "    if operation=='1': #if it is an addition\n",
    "        print(f\"\\nSum of {num1} and {num2} =\",num1+num2)\n",
    "  \n",
    "    if operation=='2':# if it is subtraction\n",
    "        print(f\"\\nDifference of {num1} and {num2} =\",num1-num2)\n",
    "   \n",
    "    if operation=='3':#if it is multiplication\n",
    "        print(f\"\\nMultiplication {num1}*{num2}=\",num1*num2)\n",
    "   \n",
    "    if operation=='4':#if it is division\n",
    "        print(f\"\\nDivision of {num1} and {num2}= \",num1/num2)\n",
    "   \n",
    "    print(\"Do you want to perform more operation? 'y' or 'no' \")\n",
    "   \n",
    "    more=input()# if the user wants to perform more operations"
   ]
  },
  {
   "cell_type": "code",
   "execution_count": null,
   "metadata": {},
   "outputs": [],
   "source": []
  }
 ],
 "metadata": {
  "kernelspec": {
   "display_name": "Python 3",
   "language": "python",
   "name": "python3"
  },
  "language_info": {
   "codemirror_mode": {
    "name": "ipython",
    "version": 3
   },
   "file_extension": ".py",
   "mimetype": "text/x-python",
   "name": "python",
   "nbconvert_exporter": "python",
   "pygments_lexer": "ipython3",
   "version": "3.8.5"
  }
 },
 "nbformat": 4,
 "nbformat_minor": 4
}
