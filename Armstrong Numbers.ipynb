{
 "cells": [
  {
   "cell_type": "code",
   "execution_count": null,
   "metadata": {},
   "outputs": [],
   "source": [
    "# Armstrong Numbers Are --> Any number which is equal to the sum of cubes of its digits\n",
    "\n"
   ]
  },
  {
   "cell_type": "code",
   "execution_count": null,
   "metadata": {},
   "outputs": [],
   "source": [
    "# Qno- TO check whether it is armstrong number or not\n",
    "\n",
    "num=int(input(\"Enter any number:\"))\n"# taking user input,
    "sum=0\n",
    "temp=num\n",
    "while num!=0:\n",
    "    rem = num%10\n",
    "    sum+= rem**3\n",
    "    num = num//10\n",
    # checking if number is armstrong or not
    "if temp==sum:\n",
    "    print(temp ,'is an armstrong number')\n",
    "else:\n",
    "    print(temp ,'is not an armstrong number')\n"
   ]
  },
  {
   "cell_type": "code",
   "execution_count": null,
   "metadata": {},
   "outputs": [],
   "source": [
    "# All armstrong numbers within a given range\n",
    "\n",
    "a = int(input(\"enter first interval: \"))\n",
    "b = int(input(\"enter second interval:  \"))\n",
    "print(f\"Armstrong number between {a} to {b}: \")\n",
    "armstrong=[]\n",
    "for num in range(a,b+1):\n",
    "    sum=0\n",
    "    temp = num\n",
    "    while num!=0:\n",
    "        rem = num % 10\n",
    "        sum+= rem**3\n",
    "        num//=10\n",
    "    if sum==temp:\n",
    "       armstrong.append(sum)\n",
    "    else:\n",
    "        continue\n",
    "\n",
    "print(armstrong)"
   ]
  },
  {
   "cell_type": "code",
   "execution_count": null,
   "metadata": {},
   "outputs": [],
   "source": []
  }
 ],
 "metadata": {
  "kernelspec": {
   "display_name": "Python 3",
   "language": "python",
   "name": "python3"
  },
  "language_info": {
   "codemirror_mode": {
    "name": "ipython",
    "version": 3
   },
   "file_extension": ".py",
   "mimetype": "text/x-python",
   "name": "python",
   "nbconvert_exporter": "python",
   "pygments_lexer": "ipython3",
   "version": "3.8.5"
  }
 },
 "nbformat": 4,
 "nbformat_minor": 4
}
